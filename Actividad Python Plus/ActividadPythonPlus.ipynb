{
 "cells": [
  {
   "cell_type": "code",
   "execution_count": null,
   "metadata": {},
   "outputs": [],
   "source": [
    "import pandas as pd\n",
    "from matplotlib import pyplot as plt\n",
    "\n",
    "\n",
    "#EJERCICIO 3\n",
    "data_set = pd.read_csv(\"datos de prueba.csv\", encoding=\"utf-8\")\n",
    "\n",
    "nro_partida = int(input(\"Ingrese un nro de partida (1-7): \"))\n",
    "\n",
    "partida =  data_set[data_set[\"Partida\"] == nro_partida]\n",
    "\n",
    "palabras = partida[\"Palabra\"].value_counts()\n",
    "\n",
    "datos = palabras.values\n",
    "etiquetas = palabras.keys()\n",
    "\n",
    "plt.pie(datos, labels=etiquetas, autopct='%.1f%%',\n",
    "    shadow=True, startangle=90, labeldistance= 1.1)\n",
    "\n",
    "plt.legend(etiquetas)\n",
    "plt.title(\"Cantidad de Palabras\")\n",
    "plt.show()\n",
    "\n"
   ]
  },
  {
   "cell_type": "code",
   "execution_count": null,
   "metadata": {},
   "outputs": [],
   "source": [
    "#EJERCICIO ADICIONAL\n",
    "import wordcloud\n",
    "\n",
    "unTexto = \"\"\n",
    "for i in range(len(etiquetas)):\n",
    "    unTexto += f'{etiquetas[i]} '\n",
    "\n",
    "wordcloud = wordcloud.WordCloud().generate(unTexto)\n",
    "\n",
    "plt.imshow(wordcloud, interpolation='bilinear')\n",
    "plt.axis(\"off\")\n",
    "plt.show()"
   ]
  }
 ],
 "metadata": {
  "kernelspec": {
   "display_name": "Python 3",
   "language": "python",
   "name": "python3"
  },
  "language_info": {
   "codemirror_mode": {
    "name": "ipython",
    "version": 3
   },
   "file_extension": ".py",
   "mimetype": "text/x-python",
   "name": "python",
   "nbconvert_exporter": "python",
   "pygments_lexer": "ipython3",
   "version": "3.8.5"
  }
 },
 "nbformat": 4,
 "nbformat_minor": 4
}
